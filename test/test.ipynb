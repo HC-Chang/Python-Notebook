{
 "cells": [
  {
   "cell_type": "markdown",
   "metadata": {
    "colab_type": "text",
    "id": "view-in-github"
   },
   "source": [
    "<a href=\"https://colab.research.google.com/github/HC-Chang/Python-Notebook/blob/master/testipynb\" target=\"_parent\"><img src=\"https://colab.research.google.com/assets/colab-badge.svg\" alt=\"Open In Colab\"/></a>"
   ]
  },
  {
   "cell_type": "code",
   "execution_count": 397,
   "metadata": {
    "colab": {},
    "colab_type": "code",
    "id": "M0uzl3Q9OOpL"
   },
   "outputs": [],
   "source": [
    "# Read Train File\n",
    "# Train Model\n",
    "# Read Test File\n",
    "# Classify Test File\n",
    "# Make Answer CSV"
   ]
  },
  {
   "cell_type": "code",
   "execution_count": 398,
   "metadata": {
    "scrolled": true
   },
   "outputs": [],
   "source": [
    "# Get File Data\n",
    "\n",
    "from os import walk\n",
    "from os.path import join\n",
    "\n",
    "def Get_File_Path(data_path):\n",
    "    train_list = []\n",
    "\n",
    "    # 指定要列出所有檔案的目錄\n",
    "    my_train_path = data_path\n",
    "\n",
    "    # 遞迴列出所有檔案的絕對路徑\n",
    "    i_count = 0\n",
    "    for root, dirs, files in walk(my_train_path):\n",
    "        train_list.append([])\n",
    "        for f in files:\n",
    "            fullpath = join(root, f)\n",
    "            train_list[i_count-1].append(fullpath)\n",
    "        i_count += 1\n",
    "    return train_list"
   ]
  },
  {
   "cell_type": "code",
   "execution_count": 399,
   "metadata": {},
   "outputs": [],
   "source": [
    "# Get File Name\n",
    "\n",
    "from os import walk\n",
    "from os.path import join\n",
    "\n",
    "def Get_File_Name(data_path):\n",
    "    train_list = []\n",
    "\n",
    "    # 指定要列出所有檔案的目錄\n",
    "    my_train_path = data_path\n",
    "\n",
    "    # 遞迴列出所有檔案的絕對路徑\n",
    "    i_count = 0\n",
    "    for root, dirs, files in walk(my_train_path):\n",
    "        train_list.append([])\n",
    "        for f in files:\n",
    "            fullpath =  f\n",
    "            train_list[i_count-1].append(fullpath)\n",
    "        i_count += 1\n",
    "    return train_list"
   ]
  },
  {
   "cell_type": "code",
   "execution_count": 400,
   "metadata": {},
   "outputs": [],
   "source": [
    "# Print File Data Count\n",
    "def Print_Data_Count(data):\n",
    "    for i in range(len(data)):\n",
    "        print(len(data[i]))\n",
    "    \n",
    "    return"
   ]
  },
  {
   "cell_type": "code",
   "execution_count": 401,
   "metadata": {},
   "outputs": [],
   "source": [
    "# Train Model\n",
    "def Model(train_data):\n",
    "    \n",
    "    return"
   ]
  },
  {
   "cell_type": "code",
   "execution_count": 402,
   "metadata": {},
   "outputs": [],
   "source": [
    "# Classify Test File\n"
   ]
  },
  {
   "cell_type": "code",
   "execution_count": 485,
   "metadata": {},
   "outputs": [],
   "source": [
    "# Make Answer CSV\n",
    "import pandas as pd\n",
    "\n",
    "def Make_Answer_CSV(list_l):\n",
    "#     print(list_l)\n",
    "    answer_dic = {}\n",
    "    \n",
    "#     print(list_l[0][0])\n",
    "    for jpg_id in list_l[0]:\n",
    "        answer_dic.update({ jpg_id : '0'} )\n",
    "#         print(jpg_id)\n",
    "    \n",
    "#     print(answer_dic)\n",
    "    \n",
    "    df = pd.DataFrame.from_dict(answer_dic,orient='index')\n",
    "\n",
    "    print(df)\n",
    "#     df.to_csv(\"answer.csv\",index=False,columns=[\"filename\", \"category\"])\n",
    "    \n",
    "    return"
   ]
  },
  {
   "cell_type": "code",
   "execution_count": 495,
   "metadata": {},
   "outputs": [],
   "source": [
    "# Main\n",
    "def main():\n",
    "    \n",
    "    # Get Train Data\n",
    "    tl = Get_File_Path(\"./train\")\n",
    "#     Print_Data_Count(tl)\n",
    "    \n",
    "    \n",
    "    # Training Model\n",
    "    \n",
    "    \n",
    "    # Read Test File\n",
    "    test_l = Get_File_Path(\"./test\")\n",
    "#     Print_Data_Count(test_l)\n",
    "#     print(test_l)\n",
    "    \n",
    "    # Classify Test File\n",
    "    \n",
    "\n",
    "    test_name = Get_File_Name(\"./test\")\n",
    "#     print(test_name)\n",
    "    # Make Answer CSV\n",
    "    Make_Answer_CSV(test_name)\n",
    "    \n",
    "    return"
   ]
  },
  {
   "cell_type": "code",
   "execution_count": 494,
   "metadata": {},
   "outputs": [
    {
     "name": "stdout",
     "output_type": "stream",
     "text": [
      "                                      0\n",
      "0a0f506b449fca95e60277e57c37960e.jpg  0\n",
      "0a1b08117fdda24f50eaa071243c135e.jpg  0\n",
      "0a5b5afa0b23e67632f92efc8b730834.jpg  0\n",
      "0a2e6eb5c420b8c8f9ca1380282c994e.jpg  0\n",
      "0a3bd5dbba17a941db22c8cbf601a246.jpg  0\n",
      "0a0da923278d3229d4b9625e97594819.jpg  0\n"
     ]
    }
   ],
   "source": [
    "main()"
   ]
  },
  {
   "cell_type": "code",
   "execution_count": null,
   "metadata": {},
   "outputs": [],
   "source": []
  }
 ],
 "metadata": {
  "colab": {
   "authorship_tag": "ABX9TyNo4vdmOCqwUFhaE7s5tIaM",
   "include_colab_link": true,
   "name": "Untitled0.ipynb",
   "provenance": []
  },
  "kernelspec": {
   "display_name": "Python 3",
   "language": "python",
   "name": "python3"
  },
  "language_info": {
   "codemirror_mode": {
    "name": "ipython",
    "version": 3
   },
   "file_extension": ".py",
   "mimetype": "text/x-python",
   "name": "python",
   "nbconvert_exporter": "python",
   "pygments_lexer": "ipython3",
   "version": "3.7.6"
  }
 },
 "nbformat": 4,
 "nbformat_minor": 1
}
